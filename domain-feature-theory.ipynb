{
 "cells": [
  {
   "cell_type": "markdown",
   "metadata": {},
   "source": [
    "## Domain-Feature Theory\n",
    "\n",
    "Some things are general, while others are specific. Two domains are never identical. If they were, then would be the same domain. Two domains can be very similar, with minor superficial differences. That is, they may share a large subset of their features. What separates domains are differences in features, however small. In theory there are an infinite amount of possible domains, but we group them together in meaningful bundles, which are themselves domains. \n",
    "\n",
    "What is a domain?\n",
    "\n",
    "A domain can be anything. It is some kind of self-contained chunk. Examples can be a field of knowledge, a sport, a car, or sexual intercourse.\n",
    "\n",
    "Domains are separated from each other by ontological categories, physical things and actions involved, by when and where ones does it, and it subject matter. \n",
    "\n",
    "All domains have features. Features can also be almost anything. Penetration is a feature of sexual intercourse. Intimacy, pleasure and bonding are other features. You might have sex with two similar girls, at the same time and day of the week, in the same fashion, but these would still be different domains. They would be sub-domains of sexual intercourse, and they would share features that could be generalized and thus only stored once in memory - but the girls would be different in slight ways, and the sex would have to be tailored to those differences in order to fully pleasure them. \n",
    "\n",
    "What does sexual intercourse have in common with doing business with corporate clients? We could generalize some abstract features from sex and corporate business. You have to anticipate and feel out what the other person wants and needs in order to be happy. \n",
    "\n",
    "### Context-Adaptation\n",
    "\n",
    "We have limited working memory (RAM) available at all times. From moment to moment, we have one or another domain activated in memory. That is, all the features are loaded and ready for use. \n",
    "\n",
    "When changing to another context, we have to adapt the contents of our working memory. We can keep the generalized features that are usable with the next domain, but have to load inn all the unique features of the new domain. \n",
    "\n",
    "### Feature-Generalization\n",
    "\n",
    "Generalizing features is all about finding similarities between domains. If we find multiple domains with some identical features, we can generalize feature interaction rules over those domains for those features. We can never generalize completely over two or more domains, only on some limited subset of each domain. We always have to store information about the particulars of each domain that is not captured in the generalization. Generalization is a compression method, and is very beneficial to us.\n",
    "\n",
    "Our personal knowledge and expertise is a collection of domains. We must generalize as much as possible to compress our knowledge as much as possible. This allows us to think faster and remember more. We must look for similarities and differences, both deep and shallow.\n"
   ]
  },
  {
   "cell_type": "code",
   "execution_count": null,
   "metadata": {
    "collapsed": true
   },
   "outputs": [],
   "source": []
  }
 ],
 "metadata": {
  "kernelspec": {
   "display_name": "Python 3",
   "language": "python",
   "name": "python3"
  },
  "language_info": {
   "codemirror_mode": {
    "name": "ipython",
    "version": 3
   },
   "file_extension": ".py",
   "mimetype": "text/x-python",
   "name": "python",
   "nbconvert_exporter": "python",
   "pygments_lexer": "ipython3",
   "version": "3.6.2"
  }
 },
 "nbformat": 4,
 "nbformat_minor": 2
}
