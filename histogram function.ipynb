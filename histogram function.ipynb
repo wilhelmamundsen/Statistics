{
 "cells": [
  {
   "cell_type": "markdown",
   "metadata": {},
   "source": [
    "Method for creating histograms"
   ]
  },
  {
   "cell_type": "code",
   "execution_count": null,
   "metadata": {
    "collapsed": true
   },
   "outputs": [],
   "source": [
    "def count(array):\n",
    "    frequencies = [np.bincount(i) for i in array]\n",
    "    return frequencies\n",
    "\n",
    "def normalize(array):\n",
    "    s = sum(hist)\n",
    "    norm = [float(i)/s for i in hist]\n",
    "    return norm\n",
    "\n",
    "def histogram(array):\n",
    "    y = count(array)\n",
    "    n_y = normalize(y)"
   ]
  }
 ],
 "metadata": {
  "kernelspec": {
   "display_name": "Python 3",
   "language": "python",
   "name": "python3"
  },
  "language_info": {
   "codemirror_mode": {
    "name": "ipython",
    "version": 3
   },
   "file_extension": ".py",
   "mimetype": "text/x-python",
   "name": "python",
   "nbconvert_exporter": "python",
   "pygments_lexer": "ipython3",
   "version": "3.6.2"
  }
 },
 "nbformat": 4,
 "nbformat_minor": 2
}
